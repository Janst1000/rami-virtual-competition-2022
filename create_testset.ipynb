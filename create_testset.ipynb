{
 "cells": [
  {
   "cell_type": "code",
   "execution_count": 14,
   "metadata": {},
   "outputs": [],
   "source": [
    "import os\n",
    "import random\n",
    "from shutil import copyfile"
   ]
  },
  {
   "cell_type": "code",
   "execution_count": 19,
   "metadata": {},
   "outputs": [
    {
     "name": "stdout",
     "output_type": "stream",
     "text": [
      "['number_1', 'number_2', 'number_3', 'number_4']\n"
     ]
    }
   ],
   "source": [
    "set = \"rami_marine_dataset/class_2/\"\n",
    "img_set = os.listdir(set)\n",
    "img_set.sort()\n",
    "print(img_set)"
   ]
  },
  {
   "cell_type": "code",
   "execution_count": 20,
   "metadata": {},
   "outputs": [
    {
     "name": "stdout",
     "output_type": "stream",
     "text": [
      "['img_0001.png', 'img_0002.png', 'img_0003.png', 'img_0004.png', 'img_0005.png', 'img_0006.png', 'img_0007.png', 'img_0008.png', 'img_0009.png', 'img_0010.png', 'img_0011.png', 'img_0012.png', 'img_0013.png', 'img_0014.png', 'img_0015.png', 'img_0016.png', 'img_0017.png', 'img_0018.png', 'img_0019.png', 'img_0020.png', 'img_0021.png', 'img_0022.png', 'img_0023.png', 'img_0024.png', 'img_0025.png', 'img_0026.png', 'img_0027.png', 'img_0028.png', 'img_0029.png', 'img_0030.png', 'img_0031.png', 'img_0032.png', 'img_0033.png', 'img_0034.png', 'img_0035.png', 'img_0036.png', 'img_0037.png', 'img_0038.png', 'img_0039.png', 'img_0040.png', 'img_0041.png', 'img_0042.png', 'img_0043.png', 'img_0044.png', 'img_0045.png', 'img_0046.png', 'img_0047.png', 'img_0048.png', 'img_0049.png', 'img_0050.png', 'img_0051.png', 'img_0052.png']\n",
      "['img_0030.png', 'img_0016.png', 'img_0005.png', 'img_0029.png', 'img_0036.png', 'img_0007.png', 'img_0004.png', 'img_0042.png', 'img_0035.png', 'img_0001.png']\n",
      "['img_0001.png', 'img_0002.png', 'img_0003.png', 'img_0004.png', 'img_0005.png', 'img_0006.png', 'img_0007.png', 'img_0008.png', 'img_0009.png', 'img_0010.png', 'img_0011.png', 'img_0012.png', 'img_0013.png', 'img_0014.png', 'img_0015.png', 'img_0016.png', 'img_0017.png', 'img_0018.png', 'img_0019.png', 'img_0020.png', 'img_0021.png', 'img_0022.png', 'img_0023.png', 'img_0024.png', 'img_0025.png', 'img_0026.png', 'img_0027.png', 'img_0028.png', 'img_0029.png', 'img_0030.png', 'img_0031.png', 'img_0032.png', 'img_0033.png', 'img_0034.png', 'img_0035.png', 'img_0036.png', 'img_0037.png', 'img_0038.png', 'img_0039.png', 'img_0040.png', 'img_0041.png', 'img_0042.png', 'img_0043.png', 'img_0044.png', 'img_0045.png', 'img_0046.png', 'img_0047.png', 'img_0048.png', 'img_0049.png', 'img_0050.png', 'img_0051.png', 'img_0052.png', 'img_0053.png', 'img_0054.png', 'img_0055.png', 'img_0056.png']\n",
      "['img_0006.png', 'img_0049.png', 'img_0016.png', 'img_0011.png', 'img_0027.png', 'img_0032.png', 'img_0031.png', 'img_0014.png', 'img_0026.png', 'img_0004.png', 'img_0053.png']\n",
      "['img_0001.png', 'img_0002.png', 'img_0003.png', 'img_0004.png', 'img_0005.png', 'img_0006.png', 'img_0007.png', 'img_0008.png', 'img_0009.png', 'img_0010.png', 'img_0011.png', 'img_0012.png', 'img_0013.png', 'img_0014.png', 'img_0015.png', 'img_0016.png', 'img_0017.png', 'img_0018.png', 'img_0019.png', 'img_0020.png', 'img_0021.png', 'img_0022.png', 'img_0023.png', 'img_0024.png', 'img_0025.png', 'img_0026.png', 'img_0027.png', 'img_0028.png', 'img_0029.png', 'img_0030.png', 'img_0031.png', 'img_0032.png', 'img_0033.png', 'img_0034.png', 'img_0035.png', 'img_0036.png', 'img_0037.png', 'img_0038.png', 'img_0039.png', 'img_0040.png', 'img_0041.png', 'img_0042.png', 'img_0043.png', 'img_0044.png', 'img_0045.png', 'img_0046.png', 'img_0047.png', 'img_0048.png', 'img_0049.png', 'img_0050.png', 'img_0051.png', 'img_0052.png', 'img_0053.png', 'img_0054.png', 'img_0055.png', 'img_0056.png', 'img_0057.png', 'img_0058.png', 'img_0059.png', 'img_0060.png', 'img_0061.png', 'img_0062.png', 'img_0063.png', 'img_0064.png', 'img_0065.png', 'img_0066.png', 'img_0067.png', 'img_0068.png', 'img_0069.png', 'img_0070.png', 'img_0071.png', 'img_0072.png', 'img_0073.png', 'img_0074.png', 'img_0075.png', 'img_0076.png', 'img_0077.png', 'img_0078.png', 'img_0079.png', 'img_0080.png', 'img_0081.png', 'img_0082.png', 'img_0083.png', 'img_0084.png', 'img_0085.png']\n",
      "['img_0049.png', 'img_0001.png', 'img_0050.png', 'img_0034.png', 'img_0059.png', 'img_0037.png', 'img_0055.png', 'img_0072.png', 'img_0063.png', 'img_0020.png', 'img_0025.png', 'img_0038.png', 'img_0028.png', 'img_0008.png', 'img_0070.png', 'img_0078.png', 'img_0041.png']\n",
      "['img_0001.png', 'img_0002.png', 'img_0003.png', 'img_0004.png', 'img_0005.png', 'img_0006.png', 'img_0007.png', 'img_0008.png', 'img_0009.png', 'img_0010.png', 'img_0011.png', 'img_0012.png', 'img_0013.png', 'img_0014.png', 'img_0015.png', 'img_0016.png', 'img_0017.png', 'img_0018.png', 'img_0019.png', 'img_0020.png', 'img_0021.png', 'img_0022.png', 'img_0023.png', 'img_0024.png', 'img_0025.png', 'img_0026.png', 'img_0027.png', 'img_0028.png', 'img_0029.png', 'img_0030.png', 'img_0031.png', 'img_0032.png', 'img_0033.png', 'img_0034.png', 'img_0035.png', 'img_0036.png', 'img_0037.png', 'img_0038.png', 'img_0039.png', 'img_0040.png', 'img_0041.png', 'img_0042.png', 'img_0043.png', 'img_0044.png', 'img_0045.png', 'img_0046.png', 'img_0047.png', 'img_0048.png', 'img_0049.png', 'img_0050.png', 'img_0051.png', 'img_0052.png', 'img_0053.png', 'img_0054.png', 'img_0055.png', 'img_0056.png', 'img_0057.png', 'img_0058.png', 'img_0059.png', 'img_0060.png', 'img_0061.png', 'img_0062.png', 'img_0063.png', 'img_0064.png', 'img_0065.png', 'img_0066.png', 'img_0067.png', 'img_0068.png', 'img_0069.png', 'img_0070.png', 'img_0071.png', 'img_0072.png', 'img_0073.png', 'img_0074.png', 'img_0075.png', 'img_0076.png', 'img_0077.png', 'img_0078.png', 'img_0079.png', 'img_0080.png', 'img_0081.png', 'img_0082.png', 'img_0083.png', 'img_0084.png', 'img_0085.png', 'img_0086.png', 'img_0087.png', 'img_0088.png', 'img_0089.png', 'img_0090.png', 'img_0091.png', 'img_0092.png', 'img_0093.png', 'img_0094.png', 'img_0095.png']\n",
      "['img_0008.png', 'img_0007.png', 'img_0075.png', 'img_0062.png', 'img_0065.png', 'img_0068.png', 'img_0021.png', 'img_0066.png', 'img_0011.png', 'img_0024.png', 'img_0009.png', 'img_0077.png', 'img_0087.png', 'img_0031.png', 'img_0052.png', 'img_0016.png', 'img_0073.png', 'img_0032.png', 'img_0006.png']\n"
     ]
    }
   ],
   "source": [
    "#select 20% of images of each subfolder\n",
    "test_dir = \"rami_marine_dataset/test/\"\n",
    "if \"test\" not in os.listdir(\"rami_marine_dataset\"):\n",
    "    os.mkdir(test_dir)\n",
    "for subdir in img_set:\n",
    "    path = set + subdir\n",
    "    img_list = os.listdir(path)\n",
    "    img_list.sort()\n",
    "    print(img_list)\n",
    "    #randomly select 20% of images\n",
    "    img_list = random.sample(img_list, int(len(img_list)*0.2))\n",
    "    print(img_list)\n",
    "    #copy images to test folder\n",
    "    for img in img_list:\n",
    "        copyfile(path + \"/\" + img, test_dir + img)"
   ]
  },
  {
   "cell_type": "code",
   "execution_count": 17,
   "metadata": {},
   "outputs": [],
   "source": [
    "# clear test folder\n",
    "test_dir = \"rami_marine_dataset/test/\"\n",
    "img_list = os.listdir(test_dir)\n",
    "img_list.sort()\n",
    "for img in img_list:\n",
    "    os.remove"
   ]
  }
 ],
 "metadata": {
  "kernelspec": {
   "display_name": "Python 3.10.6 ('rami')",
   "language": "python",
   "name": "python3"
  },
  "language_info": {
   "codemirror_mode": {
    "name": "ipython",
    "version": 3
   },
   "file_extension": ".py",
   "mimetype": "text/x-python",
   "name": "python",
   "nbconvert_exporter": "python",
   "pygments_lexer": "ipython3",
   "version": "3.10.6"
  },
  "orig_nbformat": 4,
  "vscode": {
   "interpreter": {
    "hash": "d71de84e059885ff727a5dd588ce9c98ea3bd5843a86f591fa1df06cdf3d4c2b"
   }
  }
 },
 "nbformat": 4,
 "nbformat_minor": 2
}
