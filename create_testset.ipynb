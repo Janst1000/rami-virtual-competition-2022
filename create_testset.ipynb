{
 "cells": [
  {
   "cell_type": "code",
   "execution_count": 18,
   "metadata": {},
   "outputs": [],
   "source": [
    "import os\n",
    "import random\n",
    "from shutil import copyfile\n",
    "from pprint import pprint"
   ]
  },
  {
   "cell_type": "code",
   "execution_count": 7,
   "metadata": {},
   "outputs": [
    {
     "name": "stdout",
     "output_type": "stream",
     "text": [
      "['rami_marine_dataset/class_1/red', 'rami_marine_dataset/class_1/white', 'rami_marine_dataset/class_1/yellow', 'rami_marine_dataset/class_2/number_1', 'rami_marine_dataset/class_2/number_2', 'rami_marine_dataset/class_2/number_3', 'rami_marine_dataset/class_2/number_4']\n"
     ]
    }
   ],
   "source": [
    "set = \"rami_marine_dataset/class_2/\"\n",
    "img_set = os.listdir(set)\n",
    "#prepend path to set\n",
    "for item in range(len(img_set)):\n",
    "    img_set[item] = set + img_set[item]\n",
    "set2 = \"rami_marine_dataset/class_1/\"\n",
    "img_set2 = os.listdir(set2)\n",
    "#prepend path to set\n",
    "for item in range(len(img_set2)):\n",
    "    img_set2[item] = set2 + img_set2[item]\n",
    "img_set.extend(img_set2)\n",
    "img_set.sort()\n",
    "print(img_set)"
   ]
  },
  {
   "cell_type": "code",
   "execution_count": 23,
   "metadata": {},
   "outputs": [],
   "source": [
    "test_dir = \"rami_marine_dataset/test/\"\n",
    "if \"test\" not in os.listdir(\"rami_marine_dataset\"):\n",
    "    os.mkdir(test_dir)\n",
    "\n",
    "ground_truth = []\n",
    "for subdir in img_set:\n",
    "    path = subdir\n",
    "    img_list = os.listdir(path)\n",
    "    img_list.sort()\n",
    "    #randomly select 20% of images\n",
    "    img_list = random.sample(img_list, int(len(img_list)*0.2))\n",
    "    for img in img_list:\n",
    "        ground_truth.append([path + \"/\" + img, subdir.split(\"/\")[2]])\n",
    "\n",
    "# shuffle ground truth array\n",
    "random.shuffle(ground_truth)\n",
    "i = 0\n",
    "for img in ground_truth:\n",
    "    copyfile(img[0], test_dir + str(i) + \".png\")\n",
    "    i += 1\n",
    "\n",
    "with open(test_dir + \"ground_truth.txt\", \"w\") as f:\n",
    "    for item in ground_truth:\n",
    "        f.write(item[1] + \"\\n\")"
   ]
  },
  {
   "cell_type": "code",
   "execution_count": 17,
   "metadata": {},
   "outputs": [
    {
     "name": "stdout",
     "output_type": "stream",
     "text": [
      "['img_0014.png', 'img_0102.png', 'img_0097.png', 'img_0121.png', 'img_0047.png', 'img_0112.png', 'img_0027.png', 'img_0116.png', 'img_0074.png', 'img_0101.png', 'img_0087.png', 'img_0088.png', 'img_0059.png', 'img_0070.png', 'img_0078.png', 'img_0085.png', 'img_0013.png', 'img_0120.png', 'img_0090.png', 'img_0054.png', 'img_0041.png', 'img_0060.png', 'img_0062.png', 'img_0063.png']\n",
      "['img_0011.png', 'img_0079.png', 'img_0057.png', 'img_0060.png', 'img_0085.png', 'img_0016.png', 'img_0059.png', 'img_0075.png', 'img_0035.png', 'img_0036.png', 'img_0052.png', 'img_0028.png', 'img_0064.png', 'img_0009.png', 'img_0061.png', 'img_0031.png', 'img_0074.png']\n",
      "['img_0038.png', 'img_0028.png', 'img_0018.png', 'img_0013.png', 'img_0044.png', 'img_0046.png', 'img_0035.png', 'img_0025.png', 'img_0019.png']\n",
      "['img_0018.png', 'img_0051.png', 'img_0004.png', 'img_0034.png', 'img_0041.png', 'img_0028.png', 'img_0017.png', 'img_0036.png', 'img_0031.png', 'img_0025.png']\n",
      "['img_0047.png', 'img_0007.png', 'img_0021.png', 'img_0003.png', 'img_0054.png', 'img_0041.png', 'img_0004.png', 'img_0037.png', 'img_0055.png', 'img_0029.png', 'img_0052.png']\n",
      "['img_0083.png', 'img_0033.png', 'img_0079.png', 'img_0010.png', 'img_0073.png', 'img_0064.png', 'img_0049.png', 'img_0060.png', 'img_0008.png', 'img_0041.png', 'img_0053.png', 'img_0027.png', 'img_0046.png', 'img_0067.png', 'img_0061.png', 'img_0051.png', 'img_0082.png']\n",
      "['img_0086.png', 'img_0084.png', 'img_0079.png', 'img_0019.png', 'img_0008.png', 'img_0051.png', 'img_0044.png', 'img_0045.png', 'img_0067.png', 'img_0075.png', 'img_0059.png', 'img_0072.png', 'img_0076.png', 'img_0087.png', 'img_0054.png', 'img_0014.png', 'img_0046.png', 'img_0070.png', 'img_0049.png']\n"
     ]
    }
   ],
   "source": [
    "#select 20% of images of each subfolder\n",
    "test_dir = \"rami_marine_dataset/test/\"\n",
    "if \"test\" not in os.listdir(\"rami_marine_dataset\"):\n",
    "    os.mkdir(test_dir)\n",
    "# create ground truth file\n",
    "with open(\"rami_marine_dataset/test.txt\", \"w\") as f:\n",
    "    f.write(\"\")\n",
    "i = 0\n",
    "ground_truth = {}\n",
    "for subdir in img_set:\n",
    "    path = subdir\n",
    "    img_list = os.listdir(path)\n",
    "    img_list.sort()\n",
    "    #randomly select 20% of images\n",
    "    img_list = random.sample(img_list, int(len(img_list)*0.2))\n",
    "    print(img_list)\n",
    "    #copy images to test folder\n",
    "    for img in img_list:\n",
    "        copyfile(path + \"/\" + img, test_dir + str(i) + \".png\")\n",
    "        i += 1\n",
    "        ground_truth[i] = subdir.split(\"/\")[2]\n",
    "        \n",
    "        "
   ]
  },
  {
   "cell_type": "code",
   "execution_count": 6,
   "metadata": {},
   "outputs": [],
   "source": [
    "# clear test folder\n",
    "test_dir = \"rami_marine_dataset/test/\"\n",
    "img_list = os.listdir(test_dir)\n",
    "img_list.sort()\n",
    "for img in img_list:\n",
    "    os.remove"
   ]
  }
 ],
 "metadata": {
  "kernelspec": {
   "display_name": "Python 3.10.6 ('rami')",
   "language": "python",
   "name": "python3"
  },
  "language_info": {
   "codemirror_mode": {
    "name": "ipython",
    "version": 3
   },
   "file_extension": ".py",
   "mimetype": "text/x-python",
   "name": "python",
   "nbconvert_exporter": "python",
   "pygments_lexer": "ipython3",
   "version": "3.10.6"
  },
  "orig_nbformat": 4,
  "vscode": {
   "interpreter": {
    "hash": "d71de84e059885ff727a5dd588ce9c98ea3bd5843a86f591fa1df06cdf3d4c2b"
   }
  }
 },
 "nbformat": 4,
 "nbformat_minor": 2
}
